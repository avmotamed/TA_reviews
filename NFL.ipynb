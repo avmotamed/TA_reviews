{
 "cells": [
  {
   "cell_type": "code",
   "execution_count": 1,
   "metadata": {
    "collapsed": true
   },
   "outputs": [],
   "source": [
    "import pandas as pd\n",
    "import numpy as np\n",
    "from matplotlib import pyplot as plt\n",
    "\n",
    "%matplotlib inline"
   ]
  },
  {
   "cell_type": "code",
   "execution_count": 2,
   "metadata": {
    "collapsed": false
   },
   "outputs": [],
   "source": [
    "df = pd.read_csv('./allnfllines.csv', header = 1)"
   ]
  },
  {
   "cell_type": "code",
   "execution_count": 3,
   "metadata": {
    "collapsed": false
   },
   "outputs": [
    {
     "data": {
      "text/html": [
       "<div>\n",
       "<table border=\"1\" class=\"dataframe\">\n",
       "  <thead>\n",
       "    <tr style=\"text-align: right;\">\n",
       "      <th></th>\n",
       "      <th>Road v Home</th>\n",
       "      <th>Date</th>\n",
       "      <th>Road Open Spread</th>\n",
       "      <th>Road Close Spread</th>\n",
       "      <th>Open Result</th>\n",
       "      <th>Home Open Spread</th>\n",
       "      <th>Home Close Spread</th>\n",
       "      <th>Close Result</th>\n",
       "    </tr>\n",
       "  </thead>\n",
       "  <tbody>\n",
       "    <tr>\n",
       "      <th>0</th>\n",
       "      <td>CAR 20 @ DEN 21</td>\n",
       "      <td>9/8/16</td>\n",
       "      <td>1</td>\n",
       "      <td>-3</td>\n",
       "      <td>PUSH</td>\n",
       "      <td>-1</td>\n",
       "      <td>3</td>\n",
       "      <td>DEN</td>\n",
       "    </tr>\n",
       "    <tr>\n",
       "      <th>1</th>\n",
       "      <td>BUF 7 @ BAL 13</td>\n",
       "      <td>9/11/16</td>\n",
       "      <td>2.5</td>\n",
       "      <td>3</td>\n",
       "      <td>BAL</td>\n",
       "      <td>-2.5</td>\n",
       "      <td>-3</td>\n",
       "      <td>BAL</td>\n",
       "    </tr>\n",
       "  </tbody>\n",
       "</table>\n",
       "</div>"
      ],
      "text/plain": [
       "       Road v Home     Date Road Open Spread Road Close Spread Open Result  \\\n",
       "0  CAR 20 @ DEN 21   9/8/16                1                -3        PUSH   \n",
       "1   BUF 7 @ BAL 13  9/11/16              2.5                 3         BAL   \n",
       "\n",
       "  Home Open Spread Home Close Spread Close Result  \n",
       "0               -1                 3          DEN  \n",
       "1             -2.5                -3          BAL  "
      ]
     },
     "execution_count": 3,
     "metadata": {},
     "output_type": "execute_result"
    }
   ],
   "source": [
    "df.head(2)"
   ]
  },
  {
   "cell_type": "code",
   "execution_count": 4,
   "metadata": {
    "collapsed": false
   },
   "outputs": [
    {
     "data": {
      "text/html": [
       "<div>\n",
       "<table border=\"1\" class=\"dataframe\">\n",
       "  <thead>\n",
       "    <tr style=\"text-align: right;\">\n",
       "      <th></th>\n",
       "      <th>Road v Home</th>\n",
       "      <th>Date</th>\n",
       "      <th>Home Open Spread</th>\n",
       "      <th>Home Close Spread</th>\n",
       "    </tr>\n",
       "  </thead>\n",
       "  <tbody>\n",
       "    <tr>\n",
       "      <th>0</th>\n",
       "      <td>CAR 20 @ DEN 21</td>\n",
       "      <td>9/8/16</td>\n",
       "      <td>-1</td>\n",
       "      <td>3</td>\n",
       "    </tr>\n",
       "    <tr>\n",
       "      <th>1</th>\n",
       "      <td>BUF 7 @ BAL 13</td>\n",
       "      <td>9/11/16</td>\n",
       "      <td>-2.5</td>\n",
       "      <td>-3</td>\n",
       "    </tr>\n",
       "  </tbody>\n",
       "</table>\n",
       "</div>"
      ],
      "text/plain": [
       "       Road v Home     Date Home Open Spread Home Close Spread\n",
       "0  CAR 20 @ DEN 21   9/8/16               -1                 3\n",
       "1   BUF 7 @ BAL 13  9/11/16             -2.5                -3"
      ]
     },
     "execution_count": 4,
     "metadata": {},
     "output_type": "execute_result"
    }
   ],
   "source": [
    "df = df[['Road v Home', 'Date', 'Home Open Spread', 'Home Close Spread']]\n",
    "df.head(2)"
   ]
  },
  {
   "cell_type": "code",
   "execution_count": 5,
   "metadata": {
    "collapsed": false
   },
   "outputs": [
    {
     "data": {
      "text/plain": [
       "Road v Home          object\n",
       "Date                 object\n",
       "Home Open Spread     object\n",
       "Home Close Spread    object\n",
       "dtype: object"
      ]
     },
     "execution_count": 5,
     "metadata": {},
     "output_type": "execute_result"
    }
   ],
   "source": [
    "df.dtypes"
   ]
  },
  {
   "cell_type": "code",
   "execution_count": 11,
   "metadata": {
    "collapsed": false
   },
   "outputs": [],
   "source": [
    "df = df[df['Road v Home'] != 'Showing 1 to 16 of 16 entries']\n",
    "df = df[df['Road v Home'] != 'Road v Home']"
   ]
  },
  {
   "cell_type": "code",
   "execution_count": 13,
   "metadata": {
    "collapsed": false
   },
   "outputs": [
    {
     "data": {
      "text/html": [
       "<div>\n",
       "<table border=\"1\" class=\"dataframe\">\n",
       "  <thead>\n",
       "    <tr style=\"text-align: right;\">\n",
       "      <th></th>\n",
       "      <th>Road v Home</th>\n",
       "      <th>Date</th>\n",
       "      <th>Home Open Spread</th>\n",
       "      <th>Home Close Spread</th>\n",
       "    </tr>\n",
       "  </thead>\n",
       "  <tbody>\n",
       "    <tr>\n",
       "      <th>187</th>\n",
       "      <td>NaN</td>\n",
       "      <td>NaN</td>\n",
       "      <td>NaN</td>\n",
       "      <td>NaN</td>\n",
       "    </tr>\n",
       "    <tr>\n",
       "      <th>376</th>\n",
       "      <td>NaN</td>\n",
       "      <td>NaN</td>\n",
       "      <td>NaN</td>\n",
       "      <td>NaN</td>\n",
       "    </tr>\n",
       "  </tbody>\n",
       "</table>\n",
       "</div>"
      ],
      "text/plain": [
       "    Road v Home Date Home Open Spread Home Close Spread\n",
       "187         NaN  NaN              NaN               NaN\n",
       "376         NaN  NaN              NaN               NaN"
      ]
     },
     "execution_count": 13,
     "metadata": {},
     "output_type": "execute_result"
    }
   ],
   "source": [
    "df[df['Road v Home'].isnull()].head(2) ## there are a bunch, only print first two"
   ]
  },
  {
   "cell_type": "code",
   "execution_count": 14,
   "metadata": {
    "collapsed": true
   },
   "outputs": [],
   "source": [
    "df = df.dropna()\n",
    "df.reset_index(drop = True, inplace = True)"
   ]
  },
  {
   "cell_type": "code",
   "execution_count": 16,
   "metadata": {
    "collapsed": false
   },
   "outputs": [],
   "source": [
    "home = []\n",
    "road = []\n",
    "home_score = []\n",
    "road_score = []\n",
    "\n",
    "for i in range(len(df)):\n",
    "    matchup = df['Road v Home'][i]\n",
    "    x = matchup.split()\n",
    "    road.append(x[0])\n",
    "    road_score.append(x[1])\n",
    "    home.append(x[3])\n",
    "    home_score.append(x[4])\n",
    "    \n",
    "df['home'] = home\n",
    "df['road'] = road\n",
    "df['home_score'] = home_score\n",
    "df['road_score'] = road_score"
   ]
  },
  {
   "cell_type": "code",
   "execution_count": 17,
   "metadata": {
    "collapsed": false
   },
   "outputs": [
    {
     "data": {
      "text/html": [
       "<div>\n",
       "<table border=\"1\" class=\"dataframe\">\n",
       "  <thead>\n",
       "    <tr style=\"text-align: right;\">\n",
       "      <th></th>\n",
       "      <th>Road v Home</th>\n",
       "      <th>Date</th>\n",
       "      <th>Home Open Spread</th>\n",
       "      <th>Home Close Spread</th>\n",
       "      <th>home</th>\n",
       "      <th>road</th>\n",
       "      <th>home_score</th>\n",
       "      <th>road_score</th>\n",
       "    </tr>\n",
       "  </thead>\n",
       "  <tbody>\n",
       "    <tr>\n",
       "      <th>0</th>\n",
       "      <td>CAR 20 @ DEN 21</td>\n",
       "      <td>9/8/16</td>\n",
       "      <td>-1</td>\n",
       "      <td>3</td>\n",
       "      <td>DEN</td>\n",
       "      <td>CAR</td>\n",
       "      <td>21</td>\n",
       "      <td>20</td>\n",
       "    </tr>\n",
       "    <tr>\n",
       "      <th>1</th>\n",
       "      <td>BUF 7 @ BAL 13</td>\n",
       "      <td>9/11/16</td>\n",
       "      <td>-2.5</td>\n",
       "      <td>-3</td>\n",
       "      <td>BAL</td>\n",
       "      <td>BUF</td>\n",
       "      <td>13</td>\n",
       "      <td>7</td>\n",
       "    </tr>\n",
       "  </tbody>\n",
       "</table>\n",
       "</div>"
      ],
      "text/plain": [
       "       Road v Home     Date Home Open Spread Home Close Spread home road  \\\n",
       "0  CAR 20 @ DEN 21   9/8/16               -1                 3  DEN  CAR   \n",
       "1   BUF 7 @ BAL 13  9/11/16             -2.5                -3  BAL  BUF   \n",
       "\n",
       "  home_score road_score  \n",
       "0         21         20  \n",
       "1         13          7  "
      ]
     },
     "execution_count": 17,
     "metadata": {},
     "output_type": "execute_result"
    }
   ],
   "source": [
    "df.head(2)"
   ]
  },
  {
   "cell_type": "code",
   "execution_count": 18,
   "metadata": {
    "collapsed": false
   },
   "outputs": [],
   "source": [
    "try:\n",
    "    del df['Road v Home']\n",
    "except:\n",
    "    pass"
   ]
  },
  {
   "cell_type": "code",
   "execution_count": 19,
   "metadata": {
    "collapsed": false
   },
   "outputs": [],
   "source": [
    "df['home'][df['home'] == 'LA'] = 'STL'"
   ]
  },
  {
   "cell_type": "code",
   "execution_count": 20,
   "metadata": {
    "collapsed": true
   },
   "outputs": [],
   "source": [
    "df['road'][df['road'] == 'LA'] = 'STL'"
   ]
  },
  {
   "cell_type": "code",
   "execution_count": 21,
   "metadata": {
    "collapsed": false
   },
   "outputs": [
    {
     "data": {
      "text/plain": [
       "32"
      ]
     },
     "execution_count": 21,
     "metadata": {},
     "output_type": "execute_result"
    }
   ],
   "source": [
    "len(df['home'].value_counts())"
   ]
  },
  {
   "cell_type": "code",
   "execution_count": 22,
   "metadata": {
    "collapsed": true
   },
   "outputs": [],
   "source": [
    "df['Home Open Spread'] = df['Home Open Spread'].apply(lambda x: float(x))\n",
    "df['Home Close Spread'] = df['Home Close Spread'].apply(lambda x: float(x))\n",
    "df['home_score'] = df['home_score'].apply(lambda x: float(x))\n",
    "df['road_score'] = df['road_score'].apply(lambda x: float(x))"
   ]
  },
  {
   "cell_type": "code",
   "execution_count": 29,
   "metadata": {
    "collapsed": false
   },
   "outputs": [],
   "source": [
    "df['Date'] = df['Date'].apply(lambda x: pd.to_datetime(x))\n",
    "df['DoW'] = df['Date'].apply(lambda x: str(x.dayofweek))"
   ]
  },
  {
   "cell_type": "code",
   "execution_count": 30,
   "metadata": {
    "collapsed": false
   },
   "outputs": [
    {
     "data": {
      "text/html": [
       "<div>\n",
       "<table border=\"1\" class=\"dataframe\">\n",
       "  <thead>\n",
       "    <tr style=\"text-align: right;\">\n",
       "      <th></th>\n",
       "      <th>Date</th>\n",
       "      <th>Home Open Spread</th>\n",
       "      <th>Home Close Spread</th>\n",
       "      <th>home</th>\n",
       "      <th>road</th>\n",
       "      <th>home_score</th>\n",
       "      <th>road_score</th>\n",
       "      <th>DoW</th>\n",
       "    </tr>\n",
       "  </thead>\n",
       "  <tbody>\n",
       "    <tr>\n",
       "      <th>0</th>\n",
       "      <td>2016-09-08</td>\n",
       "      <td>-1.0</td>\n",
       "      <td>3.0</td>\n",
       "      <td>DEN</td>\n",
       "      <td>CAR</td>\n",
       "      <td>21.0</td>\n",
       "      <td>20.0</td>\n",
       "      <td>3</td>\n",
       "    </tr>\n",
       "    <tr>\n",
       "      <th>1</th>\n",
       "      <td>2016-09-11</td>\n",
       "      <td>-2.5</td>\n",
       "      <td>-3.0</td>\n",
       "      <td>BAL</td>\n",
       "      <td>BUF</td>\n",
       "      <td>13.0</td>\n",
       "      <td>7.0</td>\n",
       "      <td>6</td>\n",
       "    </tr>\n",
       "  </tbody>\n",
       "</table>\n",
       "</div>"
      ],
      "text/plain": [
       "        Date  Home Open Spread  Home Close Spread home road  home_score  \\\n",
       "0 2016-09-08              -1.0                3.0  DEN  CAR        21.0   \n",
       "1 2016-09-11              -2.5               -3.0  BAL  BUF        13.0   \n",
       "\n",
       "   road_score DoW  \n",
       "0        20.0   3  \n",
       "1         7.0   6  "
      ]
     },
     "execution_count": 30,
     "metadata": {},
     "output_type": "execute_result"
    }
   ],
   "source": [
    "df.head(2)"
   ]
  },
  {
   "cell_type": "code",
   "execution_count": 31,
   "metadata": {
    "collapsed": true
   },
   "outputs": [],
   "source": [
    "big_df = pd.concat([df.drop(['home'], axis = 1), \\\n",
    "                             pd.get_dummies(df['home'], prefix = 'home')], axis = 1)\n",
    "big_df = pd.concat([big_df.drop(['road'], axis = 1), \\\n",
    "                             pd.get_dummies(big_df['road'], prefix = 'road')], axis = 1)"
   ]
  },
  {
   "cell_type": "code",
   "execution_count": 32,
   "metadata": {
    "collapsed": false
   },
   "outputs": [
    {
     "data": {
      "text/html": [
       "<div>\n",
       "<table border=\"1\" class=\"dataframe\">\n",
       "  <thead>\n",
       "    <tr style=\"text-align: right;\">\n",
       "      <th></th>\n",
       "      <th>Date</th>\n",
       "      <th>Home Open Spread</th>\n",
       "      <th>Home Close Spread</th>\n",
       "      <th>home_score</th>\n",
       "      <th>road_score</th>\n",
       "      <th>DoW</th>\n",
       "      <th>home_ARI</th>\n",
       "      <th>home_ATL</th>\n",
       "      <th>home_BAL</th>\n",
       "      <th>home_BUF</th>\n",
       "      <th>...</th>\n",
       "      <th>road_OAK</th>\n",
       "      <th>road_PHI</th>\n",
       "      <th>road_PIT</th>\n",
       "      <th>road_SD</th>\n",
       "      <th>road_SEA</th>\n",
       "      <th>road_SF</th>\n",
       "      <th>road_STL</th>\n",
       "      <th>road_TB</th>\n",
       "      <th>road_TEN</th>\n",
       "      <th>road_WAS</th>\n",
       "    </tr>\n",
       "  </thead>\n",
       "  <tbody>\n",
       "    <tr>\n",
       "      <th>0</th>\n",
       "      <td>2016-09-08</td>\n",
       "      <td>-1.0</td>\n",
       "      <td>3.0</td>\n",
       "      <td>21.0</td>\n",
       "      <td>20.0</td>\n",
       "      <td>3</td>\n",
       "      <td>0.0</td>\n",
       "      <td>0.0</td>\n",
       "      <td>0.0</td>\n",
       "      <td>0.0</td>\n",
       "      <td>...</td>\n",
       "      <td>0.0</td>\n",
       "      <td>0.0</td>\n",
       "      <td>0.0</td>\n",
       "      <td>0.0</td>\n",
       "      <td>0.0</td>\n",
       "      <td>0.0</td>\n",
       "      <td>0.0</td>\n",
       "      <td>0.0</td>\n",
       "      <td>0.0</td>\n",
       "      <td>0.0</td>\n",
       "    </tr>\n",
       "    <tr>\n",
       "      <th>1</th>\n",
       "      <td>2016-09-11</td>\n",
       "      <td>-2.5</td>\n",
       "      <td>-3.0</td>\n",
       "      <td>13.0</td>\n",
       "      <td>7.0</td>\n",
       "      <td>6</td>\n",
       "      <td>0.0</td>\n",
       "      <td>0.0</td>\n",
       "      <td>1.0</td>\n",
       "      <td>0.0</td>\n",
       "      <td>...</td>\n",
       "      <td>0.0</td>\n",
       "      <td>0.0</td>\n",
       "      <td>0.0</td>\n",
       "      <td>0.0</td>\n",
       "      <td>0.0</td>\n",
       "      <td>0.0</td>\n",
       "      <td>0.0</td>\n",
       "      <td>0.0</td>\n",
       "      <td>0.0</td>\n",
       "      <td>0.0</td>\n",
       "    </tr>\n",
       "  </tbody>\n",
       "</table>\n",
       "<p>2 rows × 70 columns</p>\n",
       "</div>"
      ],
      "text/plain": [
       "        Date  Home Open Spread  Home Close Spread  home_score  road_score DoW  \\\n",
       "0 2016-09-08              -1.0                3.0        21.0        20.0   3   \n",
       "1 2016-09-11              -2.5               -3.0        13.0         7.0   6   \n",
       "\n",
       "   home_ARI  home_ATL  home_BAL  home_BUF    ...     road_OAK  road_PHI  \\\n",
       "0       0.0       0.0       0.0       0.0    ...          0.0       0.0   \n",
       "1       0.0       0.0       1.0       0.0    ...          0.0       0.0   \n",
       "\n",
       "   road_PIT  road_SD  road_SEA  road_SF  road_STL  road_TB  road_TEN  road_WAS  \n",
       "0       0.0      0.0       0.0      0.0       0.0      0.0       0.0       0.0  \n",
       "1       0.0      0.0       0.0      0.0       0.0      0.0       0.0       0.0  \n",
       "\n",
       "[2 rows x 70 columns]"
      ]
     },
     "execution_count": 32,
     "metadata": {},
     "output_type": "execute_result"
    }
   ],
   "source": [
    "big_df.head(2)"
   ]
  },
  {
   "cell_type": "code",
   "execution_count": 33,
   "metadata": {
    "collapsed": true
   },
   "outputs": [],
   "source": [
    "## drop a dummy!\n",
    "\n",
    "try:\n",
    "    del big_df['home_ARI']\n",
    "    del big_df['road_ARI']\n",
    "except:\n",
    "    pass"
   ]
  },
  {
   "cell_type": "code",
   "execution_count": 36,
   "metadata": {
    "collapsed": false
   },
   "outputs": [
    {
     "data": {
      "text/plain": [
       "6    2203\n",
       "0     170\n",
       "3     133\n",
       "5      51\n",
       "1       1\n",
       "4       1\n",
       "2       1\n",
       "Name: DoW, dtype: int64"
      ]
     },
     "execution_count": 36,
     "metadata": {},
     "output_type": "execute_result"
    }
   ],
   "source": [
    "big_df['DoW'].value_counts()"
   ]
  },
  {
   "cell_type": "code",
   "execution_count": 39,
   "metadata": {
    "collapsed": false
   },
   "outputs": [],
   "source": [
    "big_df = big_df[big_df['DoW'] != 1]\n",
    "big_df = big_df[big_df['DoW'] != 4]\n",
    "big_df = big_df[big_df['DoW'] != 2]\n",
    "big_df.reset_index(drop = True, inplace = True)"
   ]
  },
  {
   "cell_type": "code",
   "execution_count": 40,
   "metadata": {
    "collapsed": true
   },
   "outputs": [],
   "source": [
    "big_df['DoW'] = big_df['DoW'].apply(lambda x: x.replace('6', 'Sunday'))\n",
    "big_df['DoW'] = big_df['DoW'].apply(lambda x: x.replace('0', 'Monday'))\n",
    "big_df['DoW'] = big_df['DoW'].apply(lambda x: x.replace('3', 'Thursday'))\n",
    "big_df['DoW'] = big_df['DoW'].apply(lambda x: x.replace('5', 'Saturday'))"
   ]
  },
  {
   "cell_type": "code",
   "execution_count": 41,
   "metadata": {
    "collapsed": true
   },
   "outputs": [],
   "source": [
    "big_df = pd.concat([big_df.drop(['DoW'], axis = 1), \\\n",
    "                             pd.get_dummies(big_df['DoW'])], axis = 1)\n",
    "try:\n",
    "    del big_df['Sunday']\n",
    "except:\n",
    "    pass"
   ]
  },
  {
   "cell_type": "code",
   "execution_count": 42,
   "metadata": {
    "collapsed": false
   },
   "outputs": [
    {
     "data": {
      "text/html": [
       "<div>\n",
       "<table border=\"1\" class=\"dataframe\">\n",
       "  <thead>\n",
       "    <tr style=\"text-align: right;\">\n",
       "      <th></th>\n",
       "      <th>Date</th>\n",
       "      <th>Home Open Spread</th>\n",
       "      <th>Home Close Spread</th>\n",
       "      <th>home_score</th>\n",
       "      <th>road_score</th>\n",
       "      <th>home_ATL</th>\n",
       "      <th>home_BAL</th>\n",
       "      <th>home_BUF</th>\n",
       "      <th>home_CAR</th>\n",
       "      <th>home_CHI</th>\n",
       "      <th>...</th>\n",
       "      <th>road_STL</th>\n",
       "      <th>road_TB</th>\n",
       "      <th>road_TEN</th>\n",
       "      <th>road_WAS</th>\n",
       "      <th>1</th>\n",
       "      <th>2</th>\n",
       "      <th>4</th>\n",
       "      <th>Monday</th>\n",
       "      <th>Saturday</th>\n",
       "      <th>Thursday</th>\n",
       "    </tr>\n",
       "  </thead>\n",
       "  <tbody>\n",
       "    <tr>\n",
       "      <th>0</th>\n",
       "      <td>2016-09-08</td>\n",
       "      <td>-1.0</td>\n",
       "      <td>3.0</td>\n",
       "      <td>21.0</td>\n",
       "      <td>20.0</td>\n",
       "      <td>0.0</td>\n",
       "      <td>0.0</td>\n",
       "      <td>0.0</td>\n",
       "      <td>0.0</td>\n",
       "      <td>0.0</td>\n",
       "      <td>...</td>\n",
       "      <td>0.0</td>\n",
       "      <td>0.0</td>\n",
       "      <td>0.0</td>\n",
       "      <td>0.0</td>\n",
       "      <td>0.0</td>\n",
       "      <td>0.0</td>\n",
       "      <td>0.0</td>\n",
       "      <td>0.0</td>\n",
       "      <td>0.0</td>\n",
       "      <td>1.0</td>\n",
       "    </tr>\n",
       "    <tr>\n",
       "      <th>1</th>\n",
       "      <td>2016-09-11</td>\n",
       "      <td>-2.5</td>\n",
       "      <td>-3.0</td>\n",
       "      <td>13.0</td>\n",
       "      <td>7.0</td>\n",
       "      <td>0.0</td>\n",
       "      <td>1.0</td>\n",
       "      <td>0.0</td>\n",
       "      <td>0.0</td>\n",
       "      <td>0.0</td>\n",
       "      <td>...</td>\n",
       "      <td>0.0</td>\n",
       "      <td>0.0</td>\n",
       "      <td>0.0</td>\n",
       "      <td>0.0</td>\n",
       "      <td>0.0</td>\n",
       "      <td>0.0</td>\n",
       "      <td>0.0</td>\n",
       "      <td>0.0</td>\n",
       "      <td>0.0</td>\n",
       "      <td>0.0</td>\n",
       "    </tr>\n",
       "    <tr>\n",
       "      <th>2</th>\n",
       "      <td>2016-09-11</td>\n",
       "      <td>4.0</td>\n",
       "      <td>3.5</td>\n",
       "      <td>23.0</td>\n",
       "      <td>27.0</td>\n",
       "      <td>0.0</td>\n",
       "      <td>0.0</td>\n",
       "      <td>0.0</td>\n",
       "      <td>0.0</td>\n",
       "      <td>0.0</td>\n",
       "      <td>...</td>\n",
       "      <td>0.0</td>\n",
       "      <td>0.0</td>\n",
       "      <td>0.0</td>\n",
       "      <td>0.0</td>\n",
       "      <td>0.0</td>\n",
       "      <td>0.0</td>\n",
       "      <td>0.0</td>\n",
       "      <td>0.0</td>\n",
       "      <td>0.0</td>\n",
       "      <td>0.0</td>\n",
       "    </tr>\n",
       "  </tbody>\n",
       "</table>\n",
       "<p>3 rows × 73 columns</p>\n",
       "</div>"
      ],
      "text/plain": [
       "        Date  Home Open Spread  Home Close Spread  home_score  road_score  \\\n",
       "0 2016-09-08              -1.0                3.0        21.0        20.0   \n",
       "1 2016-09-11              -2.5               -3.0        13.0         7.0   \n",
       "2 2016-09-11               4.0                3.5        23.0        27.0   \n",
       "\n",
       "   home_ATL  home_BAL  home_BUF  home_CAR  home_CHI    ...     road_STL  \\\n",
       "0       0.0       0.0       0.0       0.0       0.0    ...          0.0   \n",
       "1       0.0       1.0       0.0       0.0       0.0    ...          0.0   \n",
       "2       0.0       0.0       0.0       0.0       0.0    ...          0.0   \n",
       "\n",
       "   road_TB  road_TEN  road_WAS    1    2    4  Monday  Saturday  Thursday  \n",
       "0      0.0       0.0       0.0  0.0  0.0  0.0     0.0       0.0       1.0  \n",
       "1      0.0       0.0       0.0  0.0  0.0  0.0     0.0       0.0       0.0  \n",
       "2      0.0       0.0       0.0  0.0  0.0  0.0     0.0       0.0       0.0  \n",
       "\n",
       "[3 rows x 73 columns]"
      ]
     },
     "execution_count": 42,
     "metadata": {},
     "output_type": "execute_result"
    }
   ],
   "source": [
    "big_df.head(3) ## get rid of 1, 2, 4 columns"
   ]
  },
  {
   "cell_type": "code",
   "execution_count": null,
   "metadata": {
    "collapsed": true
   },
   "outputs": [],
   "source": []
  }
 ],
 "metadata": {
  "kernelspec": {
   "display_name": "Python 2",
   "language": "python",
   "name": "python2"
  },
  "language_info": {
   "codemirror_mode": {
    "name": "ipython",
    "version": 2
   },
   "file_extension": ".py",
   "mimetype": "text/x-python",
   "name": "python",
   "nbconvert_exporter": "python",
   "pygments_lexer": "ipython2",
   "version": "2.7.12"
  }
 },
 "nbformat": 4,
 "nbformat_minor": 0
}
